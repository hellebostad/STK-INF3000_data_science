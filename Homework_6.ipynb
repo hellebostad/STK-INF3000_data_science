{
 "cells": [
  {
   "cell_type": "code",
   "execution_count": 1,
   "metadata": {
    "collapsed": true
   },
   "outputs": [],
   "source": [
    "import pandas"
   ]
  },
  {
   "cell_type": "code",
   "execution_count": 6,
   "metadata": {
    "collapsed": false
   },
   "outputs": [],
   "source": [
    "whitew = pandas.read_csv('/Users/thor/Dropbox/Spring_2017_semester/STK4000/Data/winequality-white.csv', sep=';')"
   ]
  },
  {
   "cell_type": "code",
   "execution_count": 7,
   "metadata": {
    "collapsed": false
   },
   "outputs": [
    {
     "data": {
      "text/html": [
       "<div>\n",
       "<table border=\"1\" class=\"dataframe\">\n",
       "  <thead>\n",
       "    <tr style=\"text-align: right;\">\n",
       "      <th></th>\n",
       "      <th>fixed acidity</th>\n",
       "      <th>volatile acidity</th>\n",
       "      <th>citric acid</th>\n",
       "      <th>residual sugar</th>\n",
       "      <th>chlorides</th>\n",
       "      <th>free sulfur dioxide</th>\n",
       "      <th>total sulfur dioxide</th>\n",
       "      <th>density</th>\n",
       "      <th>pH</th>\n",
       "      <th>sulphates</th>\n",
       "      <th>alcohol</th>\n",
       "      <th>quality</th>\n",
       "    </tr>\n",
       "  </thead>\n",
       "  <tbody>\n",
       "    <tr>\n",
       "      <th>0</th>\n",
       "      <td>7.0</td>\n",
       "      <td>0.27</td>\n",
       "      <td>0.36</td>\n",
       "      <td>20.7</td>\n",
       "      <td>0.045</td>\n",
       "      <td>45.0</td>\n",
       "      <td>170.0</td>\n",
       "      <td>1.0010</td>\n",
       "      <td>3.00</td>\n",
       "      <td>0.45</td>\n",
       "      <td>8.8</td>\n",
       "      <td>6</td>\n",
       "    </tr>\n",
       "    <tr>\n",
       "      <th>1</th>\n",
       "      <td>6.3</td>\n",
       "      <td>0.30</td>\n",
       "      <td>0.34</td>\n",
       "      <td>1.6</td>\n",
       "      <td>0.049</td>\n",
       "      <td>14.0</td>\n",
       "      <td>132.0</td>\n",
       "      <td>0.9940</td>\n",
       "      <td>3.30</td>\n",
       "      <td>0.49</td>\n",
       "      <td>9.5</td>\n",
       "      <td>6</td>\n",
       "    </tr>\n",
       "    <tr>\n",
       "      <th>2</th>\n",
       "      <td>8.1</td>\n",
       "      <td>0.28</td>\n",
       "      <td>0.40</td>\n",
       "      <td>6.9</td>\n",
       "      <td>0.050</td>\n",
       "      <td>30.0</td>\n",
       "      <td>97.0</td>\n",
       "      <td>0.9951</td>\n",
       "      <td>3.26</td>\n",
       "      <td>0.44</td>\n",
       "      <td>10.1</td>\n",
       "      <td>6</td>\n",
       "    </tr>\n",
       "    <tr>\n",
       "      <th>3</th>\n",
       "      <td>7.2</td>\n",
       "      <td>0.23</td>\n",
       "      <td>0.32</td>\n",
       "      <td>8.5</td>\n",
       "      <td>0.058</td>\n",
       "      <td>47.0</td>\n",
       "      <td>186.0</td>\n",
       "      <td>0.9956</td>\n",
       "      <td>3.19</td>\n",
       "      <td>0.40</td>\n",
       "      <td>9.9</td>\n",
       "      <td>6</td>\n",
       "    </tr>\n",
       "    <tr>\n",
       "      <th>4</th>\n",
       "      <td>7.2</td>\n",
       "      <td>0.23</td>\n",
       "      <td>0.32</td>\n",
       "      <td>8.5</td>\n",
       "      <td>0.058</td>\n",
       "      <td>47.0</td>\n",
       "      <td>186.0</td>\n",
       "      <td>0.9956</td>\n",
       "      <td>3.19</td>\n",
       "      <td>0.40</td>\n",
       "      <td>9.9</td>\n",
       "      <td>6</td>\n",
       "    </tr>\n",
       "  </tbody>\n",
       "</table>\n",
       "</div>"
      ],
      "text/plain": [
       "   fixed acidity  volatile acidity  citric acid  residual sugar  chlorides  \\\n",
       "0            7.0              0.27         0.36            20.7      0.045   \n",
       "1            6.3              0.30         0.34             1.6      0.049   \n",
       "2            8.1              0.28         0.40             6.9      0.050   \n",
       "3            7.2              0.23         0.32             8.5      0.058   \n",
       "4            7.2              0.23         0.32             8.5      0.058   \n",
       "\n",
       "   free sulfur dioxide  total sulfur dioxide  density    pH  sulphates  \\\n",
       "0                 45.0                 170.0   1.0010  3.00       0.45   \n",
       "1                 14.0                 132.0   0.9940  3.30       0.49   \n",
       "2                 30.0                  97.0   0.9951  3.26       0.44   \n",
       "3                 47.0                 186.0   0.9956  3.19       0.40   \n",
       "4                 47.0                 186.0   0.9956  3.19       0.40   \n",
       "\n",
       "   alcohol  quality  \n",
       "0      8.8        6  \n",
       "1      9.5        6  \n",
       "2     10.1        6  \n",
       "3      9.9        6  \n",
       "4      9.9        6  "
      ]
     },
     "execution_count": 7,
     "metadata": {},
     "output_type": "execute_result"
    }
   ],
   "source": [
    "whitew.head()"
   ]
  },
  {
   "cell_type": "code",
   "execution_count": 9,
   "metadata": {
    "collapsed": false
   },
   "outputs": [
    {
     "data": {
      "text/plain": [
       "Index([u'fixed acidity', u'volatile acidity', u'citric acid',\n",
       "       u'residual sugar', u'chlorides', u'free sulfur dioxide',\n",
       "       u'total sulfur dioxide', u'density', u'pH', u'sulphates', u'alcohol',\n",
       "       u'quality'],\n",
       "      dtype='object')"
      ]
     },
     "execution_count": 9,
     "metadata": {},
     "output_type": "execute_result"
    }
   ],
   "source": [
    "whitew.columns"
   ]
  },
  {
   "cell_type": "code",
   "execution_count": 10,
   "metadata": {
    "collapsed": true
   },
   "outputs": [],
   "source": [
    "variables = [u'fixed acidity', u'volatile acidity', u'citric acid',\n",
    "       u'residual sugar', u'chlorides', u'free sulfur dioxide',\n",
    "       u'total sulfur dioxide', u'density', u'pH', u'sulphates', u'alcohol',\n",
    "       u'quality']"
   ]
  },
  {
   "cell_type": "code",
   "execution_count": 11,
   "metadata": {
    "collapsed": true
   },
   "outputs": [],
   "source": [
    "%matplotlib inline"
   ]
  },
  {
   "cell_type": "code",
   "execution_count": 12,
   "metadata": {
    "collapsed": false
   },
   "outputs": [
    {
     "data": {
      "text/plain": [
       "<matplotlib.axes._subplots.AxesSubplot at 0x115c8a910>"
      ]
     },
     "execution_count": 12,
     "metadata": {},
     "output_type": "execute_result"
    },
    {
     "data": {
      "image/png": "[encoded data removed]",
      "text/plain": [
       "<matplotlib.figure.Figure at 0x1142bf550>"
      ]
     },
     "metadata": {},
     "output_type": "display_data"
    }
   ],
   "source": [
    "whitew.plot.scatter(x = 'alcohol', y = 'quality')"
   ]
  },
  {
   "cell_type": "code",
   "execution_count": 13,
   "metadata": {
    "collapsed": false
   },
   "outputs": [
    {
     "data": {
      "text/plain": [
       "<matplotlib.axes._subplots.AxesSubplot at 0x114d2af10>"
      ]
     },
     "execution_count": 13,
     "metadata": {},
     "output_type": "execute_result"
    },
    {
     "data": {
      "image/png": "[encoded data removed]",
      "text/plain": [
       "<matplotlib.figure.Figure at 0x11869bf10>"
      ]
     },
     "metadata": {},
     "output_type": "display_data"
    }
   ],
   "source": [
    "whitew.alcohol.hist(bins = 40)"
   ]
  },
  {
   "cell_type": "code",
   "execution_count": 14,
   "metadata": {
    "collapsed": false
   },
   "outputs": [
    {
     "data": {
      "text/plain": [
       "<matplotlib.axes._subplots.AxesSubplot at 0x1187245d0>"
      ]
     },
     "execution_count": 14,
     "metadata": {},
     "output_type": "execute_result"
    },
    {
     "data": {
      "image/png": "[encoded data removed]",
      "text/plain": [
       "<matplotlib.figure.Figure at 0x1187d9e10>"
      ]
     },
     "metadata": {},
     "output_type": "display_data"
    }
   ],
   "source": [
    "whitew.quality.hist(bins = 40)"
   ]
  },
  {
   "cell_type": "code",
   "execution_count": 15,
   "metadata": {
    "collapsed": true
   },
   "outputs": [],
   "source": [
    "import numpy as np"
   ]
  },
  {
   "cell_type": "code",
   "execution_count": 16,
   "metadata": {
    "collapsed": true
   },
   "outputs": [],
   "source": [
    "X = whitew[variables].values #define X values - insert variables"
   ]
  },
  {
   "cell_type": "code",
   "execution_count": 26,
   "metadata": {
    "collapsed": true
   },
   "outputs": [],
   "source": [
    "N, p = X.shape # define N and number of variables - p"
   ]
  },
  {
   "cell_type": "code",
   "execution_count": 28,
   "metadata": {
    "collapsed": false
   },
   "outputs": [
    {
     "data": {
      "text/plain": [
       "(4898, 12)"
      ]
     },
     "execution_count": 28,
     "metadata": {},
     "output_type": "execute_result"
    }
   ],
   "source": [
    "N, p"
   ]
  },
  {
   "cell_type": "code",
   "execution_count": 29,
   "metadata": {
    "collapsed": false
   },
   "outputs": [
    {
     "data": {
      "text/plain": [
       "4898"
      ]
     },
     "execution_count": 29,
     "metadata": {},
     "output_type": "execute_result"
    }
   ],
   "source": [
    "N"
   ]
  },
  {
   "cell_type": "code",
   "execution_count": 25,
   "metadata": {
    "collapsed": false
   },
   "outputs": [
    {
     "data": {
      "text/plain": [
       "12"
      ]
     },
     "execution_count": 25,
     "metadata": {},
     "output_type": "execute_result"
    }
   ],
   "source": [
    "p"
   ]
  },
  {
   "cell_type": "code",
   "execution_count": null,
   "metadata": {
    "collapsed": true
   },
   "outputs": [],
   "source": [
    "# adds column containing 1 \n",
    "X = np.hstack((np.repeat(1, N).reshape(-1,1), X))"
   ]
  },
  {
   "cell_type": "code",
   "execution_count": 30,
   "metadata": {
    "collapsed": true
   },
   "outputs": [],
   "source": [
    "XTXi = np.linalg.inv(np.dot(X.transpose(), X))\n",
    "theta = np.dot(np.dot(XTXi, X.transpose()), whitew['quality'])"
   ]
  },
  {
   "cell_type": "code",
   "execution_count": 31,
   "metadata": {
    "collapsed": false
   },
   "outputs": [
    {
     "data": {
      "text/plain": [
       "array([ -8.39189829e-14,   7.89202037e-13,   1.09978693e-12,\n",
       "        -1.66880398e-15,   4.23638902e-12,   4.17634677e-16,\n",
       "        -7.61977287e-16,   1.17172938e-12,  -4.25215418e-13,\n",
       "        -1.17322818e-13,  -8.18789481e-16,   1.00000000e+00])"
      ]
     },
     "execution_count": 31,
     "metadata": {},
     "output_type": "execute_result"
    }
   ],
   "source": [
    "theta"
   ]
  },
  {
   "cell_type": "code",
   "execution_count": 32,
   "metadata": {
    "collapsed": false
   },
   "outputs": [
    {
     "data": {
      "text/plain": [
       "array([[  7.  ,   0.27,   0.36, ...,   0.45,   8.8 ,   6.  ],\n",
       "       [  6.3 ,   0.3 ,   0.34, ...,   0.49,   9.5 ,   6.  ],\n",
       "       [  8.1 ,   0.28,   0.4 , ...,   0.44,  10.1 ,   6.  ],\n",
       "       ..., \n",
       "       [  6.5 ,   0.24,   0.19, ...,   0.46,   9.4 ,   6.  ],\n",
       "       [  5.5 ,   0.29,   0.3 , ...,   0.38,  12.8 ,   7.  ],\n",
       "       [  6.  ,   0.21,   0.38, ...,   0.32,  11.8 ,   6.  ]])"
      ]
     },
     "execution_count": 32,
     "metadata": {},
     "output_type": "execute_result"
    }
   ],
   "source": [
    "X"
   ]
  },
  {
   "cell_type": "code",
   "execution_count": 34,
   "metadata": {
    "collapsed": false
   },
   "outputs": [
    {
     "data": {
      "text/plain": [
       "[('const', -8.391898287385402e-14),\n",
       " (u'fixed acidity', 7.8920203705479253e-13),\n",
       " (u'volatile acidity', 1.0997869281936801e-12),\n",
       " (u'citric acid', -1.6688039838896884e-15),\n",
       " (u'residual sugar', 4.2363890173646723e-12),\n",
       " (u'chlorides', 4.1763467684141631e-16),\n",
       " (u'free sulfur dioxide', -7.6197728682281252e-16),\n",
       " (u'total sulfur dioxide', 1.1717293801893902e-12),\n",
       " (u'density', -4.2521541843143495e-13),\n",
       " (u'pH', -1.1732281812726342e-13),\n",
       " (u'sulphates', -8.1878948066105295e-16),\n",
       " (u'alcohol', 0.99999999999998468)]"
      ]
     },
     "execution_count": 34,
     "metadata": {},
     "output_type": "execute_result"
    }
   ],
   "source": [
    "list(zip(['const'] + variables, theta))"
   ]
  },
  {
   "cell_type": "markdown",
   "metadata": {},
   "source": [
    "Calculate\n",
    "\n",
    "$$\\operatorname{Var}(\\hat \\theta) = (\\mathbf{X}^T\\mathbf{X})^{-1}\\sigma^2\\,,$$\n",
    "\n",
    "approximating\n",
    "\n",
    "$$\\hat \\sigma^2 = \\frac{1}{N-p-1}\\sum_{i=1}^{N} (y_i - \\hat y_i)^2\\,.$$"
   ]
  },
  {
   "cell_type": "code",
   "execution_count": 35,
   "metadata": {
    "collapsed": true
   },
   "outputs": [],
   "source": [
    "sigma = 1./(N - p - 1) * sum((np.dot(X, theta) - whitew['quality'])**2)"
   ]
  },
  {
   "cell_type": "code",
   "execution_count": 39,
   "metadata": {
    "collapsed": false
   },
   "outputs": [
    {
     "data": {
      "text/plain": [
       "(9.6372203512100204e-26,\n",
       " array([[  3.98379840e-04,   1.14240168e-04,  -5.99622620e-04,\n",
       "           5.25450394e-06,   1.22924824e-03,   3.34563823e-06,\n",
       "          -1.34899408e-06,  -5.71652609e-03,   9.22587944e-04,\n",
       "          -4.54487758e-05,   6.95047307e-06,   1.81046542e-05],\n",
       "        [  1.14240168e-04,   2.40575630e-02,   3.23342765e-03,\n",
       "          -6.75575930e-05,  -1.20911966e-02,   3.16539639e-05,\n",
       "          -1.60121771e-05,  -6.33648003e-03,   8.38002280e-04,\n",
       "           4.64099621e-04,  -6.84283417e-04,   7.00883847e-04],\n",
       "        [ -5.99622620e-04,   3.23342765e-03,   1.61734604e-02,\n",
       "          -2.33972674e-05,  -1.08955076e-02,  -3.77729537e-06,\n",
       "          -3.44231447e-06,  -1.33282435e-03,   7.34267972e-04,\n",
       "          -1.00778343e-03,  -1.44645316e-04,   1.05030899e-05],\n",
       "        [  5.25450394e-06,  -6.75575930e-05,  -2.33972674e-05,\n",
       "           1.19704781e-05,   3.37777670e-04,  -3.05879471e-07,\n",
       "          -2.62735827e-07,  -4.99786903e-04,   8.20332653e-05,\n",
       "           2.36935067e-05,   2.11064442e-05,  -8.94249341e-06],\n",
       "        [  1.22924824e-03,  -1.20911966e-02,  -1.08955076e-02,\n",
       "           3.37777670e-04,   5.16015271e-01,  -5.12983220e-06,\n",
       "          -1.46309227e-05,  -8.43195116e-02,   6.68170655e-03,\n",
       "          -6.61361936e-04,   3.41057809e-03,   3.37318002e-04],\n",
       "        [  3.34563823e-06,   3.16539639e-05,  -3.77729537e-06,\n",
       "          -3.05879471e-07,  -5.12983220e-06,   1.23938326e-06,\n",
       "          -3.19463873e-07,  -3.51609369e-05,   7.30082663e-06,\n",
       "           5.46581666e-06,  -8.34353825e-07,  -1.71445871e-06],\n",
       "        [ -1.34899408e-06,  -1.60121771e-05,  -3.44231447e-06,\n",
       "          -2.62735827e-07,  -1.46309227e-05,  -3.19463873e-07,\n",
       "           2.43729268e-07,  -1.51696698e-06,  -7.20347175e-06,\n",
       "          -8.33480170e-06,   2.04190662e-06,   3.14074062e-07],\n",
       "        [ -5.71652609e-03,  -6.33648003e-03,  -1.33282435e-03,\n",
       "          -4.99786903e-04,  -8.43195116e-02,  -3.51609369e-05,\n",
       "          -1.51696698e-06,   2.19789924e-01,  -4.42320337e-02,\n",
       "           3.01634741e-05,  -2.19384940e-03,  -7.30778469e-04],\n",
       "        [  9.22587944e-04,   8.38002280e-04,   7.34267972e-04,\n",
       "           8.20332653e-05,   6.68170655e-03,   7.30082663e-06,\n",
       "          -7.20347175e-06,  -4.42320337e-02,   1.22318151e-02,\n",
       "          -1.92989725e-03,  -5.94918662e-05,  -6.02628635e-05],\n",
       "        [ -4.54487758e-05,   4.64099621e-04,  -1.00778343e-03,\n",
       "           2.36935067e-05,  -6.61361936e-04,   5.46581666e-06,\n",
       "          -8.33480170e-06,   3.01634741e-05,  -1.92989725e-03,\n",
       "           1.66287978e-02,   2.01109283e-05,  -1.49034490e-04],\n",
       "        [  6.95047307e-06,  -6.84283417e-04,  -1.44645316e-04,\n",
       "           2.11064442e-05,   3.41057809e-03,  -8.34353825e-07,\n",
       "           2.04190662e-06,  -2.19384940e-03,  -5.94918662e-05,\n",
       "           2.01109283e-05,   2.64110671e-04,  -1.30847685e-04],\n",
       "        [  1.81046542e-05,   7.00883847e-04,   1.05030899e-05,\n",
       "          -8.94249341e-06,   3.37318002e-04,  -1.71445871e-06,\n",
       "           3.14074062e-07,  -7.30778469e-04,  -6.02628635e-05,\n",
       "          -1.49034490e-04,  -1.30847685e-04,   3.57865809e-04]]))"
      ]
     },
     "execution_count": 39,
     "metadata": {},
     "output_type": "execute_result"
    }
   ],
   "source": [
    "sigma, XTXi"
   ]
  },
  {
   "cell_type": "code",
   "execution_count": 37,
   "metadata": {
    "collapsed": true
   },
   "outputs": [],
   "source": [
    "var_theta = np.dot(XTXi, sigma)"
   ]
  },
  {
   "cell_type": "code",
   "execution_count": 38,
   "metadata": {
    "collapsed": true
   },
   "outputs": [],
   "source": [
    "?np.dot"
   ]
  },
  {
   "cell_type": "code",
   "execution_count": 40,
   "metadata": {
    "collapsed": true
   },
   "outputs": [],
   "source": [
    "d_theta = np.sqrt(var_theta.diagonal())"
   ]
  },
  {
   "cell_type": "markdown",
   "metadata": {},
   "source": [
    "Calculate the z-scores\n",
    "\n",
    "$$z_j = \\frac{\\hat \\theta_j}{\\hat \\sigma \\sqrt{v_j}}$$\n",
    "\n",
    "and corresponding P values. "
   ]
  },
  {
   "cell_type": "code",
   "execution_count": 41,
   "metadata": {
    "collapsed": true
   },
   "outputs": [],
   "source": [
    "from scipy.stats import t"
   ]
  },
  {
   "cell_type": "code",
   "execution_count": 42,
   "metadata": {
    "collapsed": false
   },
   "outputs": [
    {
     "name": "stdout",
     "output_type": "stream",
     "text": [
      "   -0.000000    0.000000  -13.543647    0.000000 const ***\n",
      "    0.000000    0.000000   16.390284    0.000000 fixed acidity ***\n",
      "    0.000000    0.000000   27.856797    0.000000 volatile acidity ***\n",
      "   -0.000000    0.000000   -1.553723    0.120315 citric acid\n",
      "    0.000000    0.000000   18.997159    0.000000 residual sugar ***\n",
      "    0.000000    0.000000    1.208420    0.226944 chlorides\n",
      "   -0.000000    0.000000   -4.971784    0.000001 free sulfur dioxide ***\n",
      "    0.000000    0.000000    8.050958    0.000000 total sulfur dioxide ***\n",
      "   -0.000000    0.000000  -12.384762    0.000000 density ***\n",
      "   -0.000000    0.000000   -2.930732    0.003397 pH ***\n",
      "   -0.000000    0.000000   -0.162294    0.871081 sulphates\n",
      "    1.000000    0.000000170280141392422.125000    0.000000 alcohol ***\n"
     ]
    }
   ],
   "source": [
    "for c, dc, name in zip(theta, d_theta, ['const'] + variables):\n",
    "    z = c / dc\n",
    "    P = 2*t.sf(abs(z), N - p - 1)\n",
    "    print \"\".join([\"{:>12f}\".format(i) for i in c, dc, z, P]), name, \n",
    "    if P < 0.05:\n",
    "        print '***'\n",
    "    else:# ...\n",
    "        print"
   ]
  },
  {
   "cell_type": "code",
   "execution_count": 43,
   "metadata": {
    "collapsed": true
   },
   "outputs": [],
   "source": [
    "from scipy.optimize import curve_fit"
   ]
  },
  {
   "cell_type": "code",
   "execution_count": 44,
   "metadata": {
    "collapsed": false
   },
   "outputs": [
    {
     "data": {
      "text/plain": [
       "[u'fixed acidity',\n",
       " u'volatile acidity',\n",
       " u'citric acid',\n",
       " u'residual sugar',\n",
       " u'chlorides',\n",
       " u'free sulfur dioxide',\n",
       " u'total sulfur dioxide',\n",
       " u'density',\n",
       " u'pH',\n",
       " u'sulphates',\n",
       " u'alcohol',\n",
       " u'quality']"
      ]
     },
     "execution_count": 44,
     "metadata": {},
     "output_type": "execute_result"
    }
   ],
   "source": [
    "variables"
   ]
  },
  {
   "cell_type": "code",
   "execution_count": 45,
   "metadata": {
    "collapsed": true
   },
   "outputs": [],
   "source": [
    "def f_lin_reg(X, t0, *thetas):\n",
    "    return t0 + sum(theta*X[var] for theta, var in zip(thetas, variables))"
   ]
  },
  {
   "cell_type": "code",
   "execution_count": 46,
   "metadata": {
    "collapsed": true
   },
   "outputs": [],
   "source": [
    "beta, pcov = curve_fit(f_lin_reg,\n",
    "                      whitew, \n",
    "                      whitew['quality'],\n",
    "                      [0]*(1+len(variables)))"
   ]
  },
  {
   "cell_type": "code",
   "execution_count": 47,
   "metadata": {
    "collapsed": false
   },
   "outputs": [
    {
     "data": {
      "text/plain": [
       "[(3.9836875714579428e-06, -8.391898287385402e-14),\n",
       " (8.2016067038646176e-10, 7.8920203705479253e-13),\n",
       " (-2.3565613090156612e-08, 1.0997869281936801e-12),\n",
       " (4.1487663620175608e-09, -1.6688039838896884e-15),\n",
       " (1.4002708077498628e-09, 4.2363890173646723e-12),\n",
       " (3.6050656144557395e-08, 4.1763467684141631e-16),\n",
       " (-3.1045318853816116e-11, -7.6197728682281252e-16),\n",
       " (1.1120930446405839e-11, 1.1717293801893902e-12),\n",
       " (-3.9350665926907187e-06, -4.2521541843143495e-13),\n",
       " (-1.2098809325776058e-08, -1.1732281812726342e-13),\n",
       " (1.0104824360806894e-08, -8.1878948066105295e-16),\n",
       " (-4.3918264496369453e-09, 0.99999999999998468)]"
      ]
     },
     "execution_count": 47,
     "metadata": {},
     "output_type": "execute_result"
    }
   ],
   "source": [
    "list(zip(beta, theta))"
   ]
  },
  {
   "cell_type": "code",
   "execution_count": 48,
   "metadata": {
    "collapsed": false
   },
   "outputs": [
    {
     "data": {
      "text/plain": [
       "array([  1.49829230e-16,   7.38493668e-23,   3.11777599e-20,\n",
       "         3.25664460e-21,   3.49211503e-23,   2.64861647e-19,\n",
       "         3.14327510e-25,   3.22397342e-26,   1.50523369e-16,\n",
       "         2.51045040e-21,   1.07101887e-20,   3.29518434e-22,\n",
       "         6.33438919e-21])"
      ]
     },
     "execution_count": 48,
     "metadata": {},
     "output_type": "execute_result"
    }
   ],
   "source": [
    "pcov.diagonal()"
   ]
  },
  {
   "cell_type": "code",
   "execution_count": 49,
   "metadata": {
    "collapsed": false
   },
   "outputs": [
    {
     "data": {
      "text/plain": [
       "array([  3.83927431e-29,   2.31848036e-27,   1.55867202e-27,\n",
       "         1.15362135e-30,   4.97295287e-26,   1.19442096e-31,\n",
       "         2.34887266e-32,   2.11816393e-26,   1.17880698e-27,\n",
       "         1.60255388e-27,   2.54529274e-29,   3.44883165e-29])"
      ]
     },
     "execution_count": 49,
     "metadata": {},
     "output_type": "execute_result"
    }
   ],
   "source": [
    "var_theta.diagonal()"
   ]
  },
  {
   "cell_type": "code",
   "execution_count": 50,
   "metadata": {
    "collapsed": true
   },
   "outputs": [],
   "source": [
    "import matplotlib.pyplot as plt"
   ]
  },
  {
   "cell_type": "code",
   "execution_count": 51,
   "metadata": {
    "collapsed": false
   },
   "outputs": [
    {
     "data": {
      "text/plain": [
       "[<matplotlib.lines.Line2D at 0x118dbb2d0>]"
      ]
     },
     "execution_count": 51,
     "metadata": {},
     "output_type": "execute_result"
    },
    {
     "data": {
      "image/png": "[encoded data removed]",
      "text/plain": [
       "<matplotlib.figure.Figure at 0x1186a4450>"
      ]
     },
     "metadata": {},
     "output_type": "display_data"
    }
   ],
   "source": [
    "plt.plot(whitew.alcohol, whitew.quality, '.')\n",
    "plt.plot(whitew.alcohol, f_lin_reg(whitew, *theta), '.')"
   ]
  },
  {
   "cell_type": "code",
   "execution_count": 52,
   "metadata": {
    "collapsed": true
   },
   "outputs": [],
   "source": [
    "from itertools import combinations"
   ]
  },
  {
   "cell_type": "code",
   "execution_count": 53,
   "metadata": {
    "collapsed": true
   },
   "outputs": [],
   "source": [
    "from sklearn.linear_model import LinearRegression"
   ]
  },
  {
   "cell_type": "code",
   "execution_count": 54,
   "metadata": {
    "collapsed": true
   },
   "outputs": [],
   "source": [
    "def LinRSS(X, y):\n",
    "    f = LinearRegression().fit(X, y)\n",
    "    return sum((f.predict(X) - y)**2)"
   ]
  },
  {
   "cell_type": "code",
   "execution_count": 55,
   "metadata": {
    "collapsed": false
   },
   "outputs": [
    {
     "data": {
      "text/plain": [
       "[(1, 2), (1, 3), (2, 3)]"
      ]
     },
     "execution_count": 55,
     "metadata": {},
     "output_type": "execute_result"
    }
   ],
   "source": [
    "list(combinations([1,2,3], 2))"
   ]
  },
  {
   "cell_type": "code",
   "execution_count": 58,
   "metadata": {
    "collapsed": false
   },
   "outputs": [],
   "source": [
    "RSS = {}\n",
    "for k in range(1, len(variables) + 1):\n",
    "    RSS[k] = {}\n",
    "    for subset in combinations(variables, k):\n",
    "        RSS[k][subset] = LinRSS(whitew[list(subset)], whitew.quality)"
   ]
  },
  {
   "cell_type": "code",
   "execution_count": 59,
   "metadata": {
    "collapsed": false
   },
   "outputs": [
    {
     "data": {
      "image/png": "[encoded data removed]",
      "text/plain": [
       "<matplotlib.figure.Figure at 0x11ba57f50>"
      ]
     },
     "metadata": {},
     "output_type": "display_data"
    }
   ],
   "source": [
    "for i in RSS:\n",
    "    plt.plot([i]*len(RSS[i]), RSS[i].values(), 'o', color = 'pink')\n",
    "    plt.plot([i], min(RSS[i].values()), 'o', color = 'black')"
   ]
  },
  {
   "cell_type": "markdown",
   "metadata": {},
   "source": [
    "# Ridge regression"
   ]
  },
  {
   "cell_type": "code",
   "execution_count": 60,
   "metadata": {
    "collapsed": true
   },
   "outputs": [],
   "source": [
    "for column in variables:\n",
    "    mean, std = whitew[column].mean(), whitew[column].std()\n",
    "    whitew[column] = whitew[column] - mean / std"
   ]
  },
  {
   "cell_type": "markdown",
   "metadata": {},
   "source": [
    "Define function to calculate\n",
    "$$\\operatorname{df}(\\lambda) = \n",
    "\\operatorname{tr}\\left\\{\\mathbf{X}(\\mathbf{X}^T\\mathbf{X} + \\lambda\\mathbf{I})^{-1}\\mathbf{X}^T\\right\\}$$\n",
    "\n"
   ]
  },
  {
   "cell_type": "code",
   "execution_count": 63,
   "metadata": {
    "collapsed": false
   },
   "outputs": [],
   "source": [
    "def dof_eff(l): #L not one, define l\n",
    "    X = whitew[variables].values\n",
    "    N, p = X.shape\n",
    "    XTXi = np.linalg.inv(np.dot(X.transpose(), X) + np.identity(p) * 1)\n",
    "    return np.dot(np.dot(X, XTXi), X.transpose()).trace()"
   ]
  },
  {
   "cell_type": "markdown",
   "metadata": {},
   "source": [
    "Now, we want to calculate which values for $\\lambda$ correspond to a set of pre-defined values for degrees of freedom"
   ]
  },
  {
   "cell_type": "code",
   "execution_count": 66,
   "metadata": {
    "collapsed": false
   },
   "outputs": [],
   "source": [
    "from scipy.optimize import minimize_scalar"
   ]
  },
  {
   "cell_type": "code",
   "execution_count": 68,
   "metadata": {
    "collapsed": false
   },
   "outputs": [],
   "source": [
    "dof = np.arange(0.5, 10, 0.5)\n",
    "lambdas = [minimize_scalar(lambda l: (dof_eff(l) - d)**2).x for d in dof]"
   ]
  },
  {
   "cell_type": "markdown",
   "metadata": {},
   "source": [
    "Define regression function for ridge regression, fixing $\\theta_0 = \\hat y$."
   ]
  },
  {
   "cell_type": "code",
   "execution_count": 70,
   "metadata": {
    "collapsed": false
   },
   "outputs": [],
   "source": [
    "theta0 = np.mean(whitew.quality)"
   ]
  },
  {
   "cell_type": "code",
   "execution_count": 71,
   "metadata": {
    "collapsed": true
   },
   "outputs": [],
   "source": [
    "def f_ridge(X, *thetas):\n",
    "    return theta0 + sum(theta*X[var]\n",
    "                       for theta, var in zip(thetas, variables))"
   ]
  },
  {
   "cell_type": "code",
   "execution_count": 72,
   "metadata": {
    "collapsed": true
   },
   "outputs": [],
   "source": [
    "def ridge(l):\n",
    "    def D_ridge(thetas):\n",
    "        fev = f_ridge(whitew, *thetas) - whitew['quality']\n",
    "        penalty = [np.sqrt(l)*theta for theta in thetas]\n",
    "        return np.concatenate((fev, penalty))\n",
    "    return D_ridge"
   ]
  },
  {
   "cell_type": "markdown",
   "metadata": {},
   "source": [
    "Minimize ridge regression equation using least squares\n",
    "\n"
   ]
  },
  {
   "cell_type": "code",
   "execution_count": 73,
   "metadata": {
    "collapsed": true
   },
   "outputs": [],
   "source": [
    "from scipy.optimize import leastsq"
   ]
  },
  {
   "cell_type": "code",
   "execution_count": 77,
   "metadata": {
    "collapsed": false
   },
   "outputs": [
    {
     "ename": "ImportError",
     "evalue": "No module named regression_params",
     "output_type": "error",
     "traceback": [
      "\u001b[0;31m---------------------------------------------------------------------------\u001b[0m",
      "\u001b[0;31mImportError\u001b[0m                               Traceback (most recent call last)",
      "\u001b[0;32m<ipython-input-77-2099dd7f8e64>\u001b[0m in \u001b[0;36m<module>\u001b[0;34m()\u001b[0m\n\u001b[0;32m----> 1\u001b[0;31m \u001b[0;32mfrom\u001b[0m \u001b[0mregression_params\u001b[0m \u001b[0;32mimport\u001b[0m \u001b[0mlambdas\u001b[0m \u001b[0;32mas\u001b[0m \u001b[0mlds\u001b[0m\u001b[0;34m\u001b[0m\u001b[0m\n\u001b[0m",
      "\u001b[0;31mImportError\u001b[0m: No module named regression_params"
     ]
    }
   ],
   "source": [
    "from regression_params import lambdas as lds"
   ]
  },
  {
   "cell_type": "code",
   "execution_count": 79,
   "metadata": {
    "collapsed": false
   },
   "outputs": [],
   "source": [
    "MSE = []\n",
    "thetas = []\n",
    "for l in lambdas:\n",
    "    theta = leastsq(ridge(l), [0]*len(variables))[0]\n",
    "    thetas.append(theta)\n",
    "    f = f_ridge(whitew, *theta)\n",
    "    MSE.append(np.mean((whitew['quality'] - f)**2))"
   ]
  },
  {
   "cell_type": "code",
   "execution_count": 80,
   "metadata": {
    "collapsed": false
   },
   "outputs": [
    {
     "data": {
      "image/png": "[encoded data removed]",
      "text/plain": [
       "<matplotlib.figure.Figure at 0x11bc4add0>"
      ]
     },
     "metadata": {},
     "output_type": "display_data"
    }
   ],
   "source": [
    "for i in range(len(variables)):\n",
    "    plt.plot(dof, [theta[i] for theta in thetas], 'o')"
   ]
  },
  {
   "cell_type": "code",
   "execution_count": 81,
   "metadata": {
    "collapsed": false
   },
   "outputs": [
    {
     "data": {
      "text/plain": [
       "[<matplotlib.lines.Line2D at 0x1149d8110>]"
      ]
     },
     "execution_count": 81,
     "metadata": {},
     "output_type": "execute_result"
    },
    {
     "data": {
      "image/png": "[encoded data removed]",
      "text/plain": [
       "<matplotlib.figure.Figure at 0x11bc7fc10>"
      ]
     },
     "metadata": {},
     "output_type": "display_data"
    }
   ],
   "source": [
    "plt.plot(dof, MSE, 'o')"
   ]
  },
  {
   "cell_type": "code",
   "execution_count": null,
   "metadata": {
    "collapsed": true
   },
   "outputs": [],
   "source": []
  },
  {
   "cell_type": "code",
   "execution_count": null,
   "metadata": {
    "collapsed": true
   },
   "outputs": [],
   "source": []
  },
  {
   "cell_type": "code",
   "execution_count": null,
   "metadata": {
    "collapsed": true
   },
   "outputs": [],
   "source": []
  },
  {
   "cell_type": "code",
   "execution_count": null,
   "metadata": {
    "collapsed": true
   },
   "outputs": [],
   "source": []
  },
  {
   "cell_type": "code",
   "execution_count": null,
   "metadata": {
    "collapsed": true
   },
   "outputs": [],
   "source": []
  },
  {
   "cell_type": "code",
   "execution_count": null,
   "metadata": {
    "collapsed": true
   },
   "outputs": [],
   "source": []
  },
  {
   "cell_type": "code",
   "execution_count": null,
   "metadata": {
    "collapsed": true
   },
   "outputs": [],
   "source": []
  },
  {
   "cell_type": "code",
   "execution_count": null,
   "metadata": {
    "collapsed": true
   },
   "outputs": [],
   "source": []
  },
  {
   "cell_type": "code",
   "execution_count": null,
   "metadata": {
    "collapsed": true
   },
   "outputs": [],
   "source": []
  },
  {
   "cell_type": "code",
   "execution_count": null,
   "metadata": {
    "collapsed": true
   },
   "outputs": [],
   "source": []
  },
  {
   "cell_type": "code",
   "execution_count": null,
   "metadata": {
    "collapsed": true
   },
   "outputs": [],
   "source": []
  },
  {
   "cell_type": "code",
   "execution_count": null,
   "metadata": {
    "collapsed": true
   },
   "outputs": [],
   "source": []
  },
  {
   "cell_type": "code",
   "execution_count": null,
   "metadata": {
    "collapsed": true
   },
   "outputs": [],
   "source": []
  },
  {
   "cell_type": "code",
   "execution_count": null,
   "metadata": {
    "collapsed": true
   },
   "outputs": [],
   "source": []
  },
  {
   "cell_type": "code",
   "execution_count": null,
   "metadata": {
    "collapsed": true
   },
   "outputs": [],
   "source": []
  },
  {
   "cell_type": "code",
   "execution_count": null,
   "metadata": {
    "collapsed": true
   },
   "outputs": [],
   "source": []
  },
  {
   "cell_type": "code",
   "execution_count": null,
   "metadata": {
    "collapsed": true
   },
   "outputs": [],
   "source": []
  },
  {
   "cell_type": "code",
   "execution_count": null,
   "metadata": {
    "collapsed": true
   },
   "outputs": [],
   "source": []
  },
  {
   "cell_type": "code",
   "execution_count": null,
   "metadata": {
    "collapsed": true
   },
   "outputs": [],
   "source": []
  },
  {
   "cell_type": "code",
   "execution_count": null,
   "metadata": {
    "collapsed": true
   },
   "outputs": [],
   "source": []
  },
  {
   "cell_type": "code",
   "execution_count": null,
   "metadata": {
    "collapsed": true
   },
   "outputs": [],
   "source": []
  },
  {
   "cell_type": "code",
   "execution_count": null,
   "metadata": {
    "collapsed": true
   },
   "outputs": [],
   "source": []
  },
  {
   "cell_type": "code",
   "execution_count": null,
   "metadata": {
    "collapsed": true
   },
   "outputs": [],
   "source": []
  },
  {
   "cell_type": "code",
   "execution_count": null,
   "metadata": {
    "collapsed": true
   },
   "outputs": [],
   "source": []
  },
  {
   "cell_type": "code",
   "execution_count": null,
   "metadata": {
    "collapsed": true
   },
   "outputs": [],
   "source": []
  },
  {
   "cell_type": "code",
   "execution_count": null,
   "metadata": {
    "collapsed": true
   },
   "outputs": [],
   "source": []
  },
  {
   "cell_type": "code",
   "execution_count": null,
   "metadata": {
    "collapsed": true
   },
   "outputs": [],
   "source": []
  },
  {
   "cell_type": "code",
   "execution_count": null,
   "metadata": {
    "collapsed": true
   },
   "outputs": [],
   "source": []
  },
  {
   "cell_type": "code",
   "execution_count": null,
   "metadata": {
    "collapsed": true
   },
   "outputs": [],
   "source": []
  },
  {
   "cell_type": "code",
   "execution_count": null,
   "metadata": {
    "collapsed": true
   },
   "outputs": [],
   "source": []
  },
  {
   "cell_type": "code",
   "execution_count": null,
   "metadata": {
    "collapsed": true
   },
   "outputs": [],
   "source": []
  },
  {
   "cell_type": "code",
   "execution_count": null,
   "metadata": {
    "collapsed": true
   },
   "outputs": [],
   "source": []
  },
  {
   "cell_type": "code",
   "execution_count": null,
   "metadata": {
    "collapsed": true
   },
   "outputs": [],
   "source": []
  },
  {
   "cell_type": "code",
   "execution_count": null,
   "metadata": {
    "collapsed": true
   },
   "outputs": [],
   "source": []
  },
  {
   "cell_type": "code",
   "execution_count": null,
   "metadata": {
    "collapsed": true
   },
   "outputs": [],
   "source": []
  },
  {
   "cell_type": "code",
   "execution_count": null,
   "metadata": {
    "collapsed": true
   },
   "outputs": [],
   "source": []
  },
  {
   "cell_type": "markdown",
   "metadata": {},
   "source": []
  },
  {
   "cell_type": "code",
   "execution_count": null,
   "metadata": {
    "collapsed": true
   },
   "outputs": [],
   "source": []
  },
  {
   "cell_type": "code",
   "execution_count": null,
   "metadata": {
    "collapsed": true
   },
   "outputs": [],
   "source": []
  },
  {
   "cell_type": "code",
   "execution_count": null,
   "metadata": {
    "collapsed": true
   },
   "outputs": [],
   "source": []
  },
  {
   "cell_type": "code",
   "execution_count": null,
   "metadata": {
    "collapsed": true
   },
   "outputs": [],
   "source": []
  },
  {
   "cell_type": "code",
   "execution_count": null,
   "metadata": {
    "collapsed": true
   },
   "outputs": [],
   "source": []
  },
  {
   "cell_type": "code",
   "execution_count": null,
   "metadata": {
    "collapsed": true
   },
   "outputs": [],
   "source": []
  },
  {
   "cell_type": "code",
   "execution_count": null,
   "metadata": {
    "collapsed": true
   },
   "outputs": [],
   "source": []
  },
  {
   "cell_type": "code",
   "execution_count": null,
   "metadata": {
    "collapsed": true
   },
   "outputs": [],
   "source": []
  },
  {
   "cell_type": "code",
   "execution_count": null,
   "metadata": {
    "collapsed": true
   },
   "outputs": [],
   "source": []
  },
  {
   "cell_type": "code",
   "execution_count": null,
   "metadata": {
    "collapsed": true
   },
   "outputs": [],
   "source": []
  },
  {
   "cell_type": "code",
   "execution_count": null,
   "metadata": {
    "collapsed": true
   },
   "outputs": [],
   "source": []
  },
  {
   "cell_type": "code",
   "execution_count": null,
   "metadata": {
    "collapsed": true
   },
   "outputs": [],
   "source": []
  }
 ],
 "metadata": {
  "kernelspec": {
   "display_name": "Python [conda env:my_project]",
   "language": "python",
   "name": "conda-env-my_project-py"
  },
  "language_info": {
   "codemirror_mode": {
    "name": "ipython",
    "version": 2
   },
   "file_extension": ".py",
   "mimetype": "text/x-python",
   "name": "python",
   "nbconvert_exporter": "python",
   "pygments_lexer": "ipython2",
   "version": "2.7.12"
  }
 },
 "nbformat": 4,
 "nbformat_minor": 1
}
